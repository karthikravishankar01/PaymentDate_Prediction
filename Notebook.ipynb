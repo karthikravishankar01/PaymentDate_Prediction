{
 "cells": [
  {
   "cell_type": "markdown",
   "metadata": {},
   "source": [
    "## Import Statements"
   ]
  },
  {
   "cell_type": "code",
   "execution_count": 1,
   "metadata": {},
   "outputs": [],
   "source": [
    "#Importing Basic Libraries\n",
    "import pandas as pd\n",
    "import numpy as np\n",
    "import matplotlib.pyplot as plt\n",
    "import seaborn as sns\n",
    "import warnings\n",
    "warnings.filterwarnings('ignore')\n",
    "from sklearn.model_selection import train_test_split\n",
    "from sklearn.preprocessing import LabelEncoder\n",
    "from sklearn.metrics import mean_squared_error\n",
    "\n",
    "from sklearn.linear_model import LogisticRegression\n",
    "from sklearn.neighbors import KNeighborsClassifier\n",
    "from sklearn.naive_bayes import GaussianNB\n",
    "from sklearn.linear_model import Lasso\n",
    "from sklearn.tree import DecisionTreeClassifier\n",
    "from sklearn.ensemble import RandomForestRegressor\n",
    "from sklearn.ensemble import RandomForestClassifier\n",
    "from sklearn.tree import DecisionTreeRegressor\n",
    "from sklearn.linear_model import Ridge\n",
    "from sklearn import linear_model"
   ]
  },
  {
   "cell_type": "markdown",
   "metadata": {},
   "source": [
    "## Data Loading"
   ]
  },
  {
   "cell_type": "code",
   "execution_count": 2,
   "metadata": {},
   "outputs": [],
   "source": [
    "#Loading the Data in a DataFrame df\n",
    "df = pd.read_csv('C:/Users/karth/OneDrive/Desktop/High Radius/H2HBABBA2877.csv')\n",
    "dummy_df = pd.read_csv('C:/Users/karth/OneDrive/Desktop/High Radius/H2HBABBA2877.csv')"
   ]
  },
  {
   "cell_type": "markdown",
   "metadata": {},
   "source": [
    "## Dropping Duplicates & Columns"
   ]
  },
  {
   "cell_type": "code",
   "execution_count": 3,
   "metadata": {},
   "outputs": [],
   "source": [
    "df = df.drop_duplicates()\n",
    "df.drop(['area_business','posting_id','invoice_id'],axis=1, inplace=True) \n",
    "\n",
    "#Dropping column \"Area Business\" & \"Posting ID\" were constants. \n",
    "#Dropping column \"invoice_ID\" as \"Doc_id\" is already present (Invoice ID ~ Doc_id)"
   ]
  },
  {
   "cell_type": "markdown",
   "metadata": {},
   "source": [
    "## Type Casting"
   ]
  },
  {
   "cell_type": "code",
   "execution_count": 4,
   "metadata": {},
   "outputs": [],
   "source": [
    "df['buisness_year'] = df.buisness_year.astype(int)\n",
    "df['posting_date'] = pd.to_datetime(df['posting_date'], format='%Y-%m-%d')\n",
    "df['due_in_date'] = pd.to_datetime(df['due_in_date'], format='%Y%m%d')\n",
    "df['clear_date'] = pd.to_datetime(df['clear_date'], format='%Y-%m-%d')\n",
    "df['document_create_date'] = pd.to_datetime(df['document_create_date'], format='%Y%m%d')\n",
    "df['document_create_date.1'] = pd.to_datetime(df['document_create_date.1'], format='%Y%m%d')\n",
    "df['baseline_create_date'] = pd.to_datetime(df['baseline_create_date'], format='%Y%m%d')"
   ]
  },
  {
   "cell_type": "markdown",
   "metadata": {},
   "source": [
    "## Calculating the DaysLate Column"
   ]
  },
  {
   "cell_type": "code",
   "execution_count": 5,
   "metadata": {},
   "outputs": [],
   "source": [
    "df['Date_difference'] = df['clear_date'] - df['due_in_date']\n",
    "df['DaysLate'] = df[\"Date_difference\"].dt.days\n",
    "df.drop(['Date_difference'],axis=1, inplace=True)\n",
    "\n",
    "df.drop(['clear_date'],axis=1, inplace=True) #Dropping Column \"Clear date\" as the \" DaysLate\"feature was extracted from it."
   ]
  },
  {
   "cell_type": "code",
   "execution_count": 6,
   "metadata": {},
   "outputs": [],
   "source": [
    "#The Reason behind splitting it into Raw_train & Raw_test is to prevent Data leakage.\n",
    "\n",
    "Raw_train = df[df['isOpen'] == 0] #We'll be working with this dataset for now\n",
    "Raw_test = df[df['isOpen'] == 1]"
   ]
  },
  {
   "cell_type": "markdown",
   "metadata": {},
   "source": [
    "# Feature Engineering & Feature Selection"
   ]
  },
  {
   "cell_type": "markdown",
   "metadata": {},
   "source": [
    "### Label Encoding for Columns for type object"
   ]
  },
  {
   "cell_type": "code",
   "execution_count": 7,
   "metadata": {},
   "outputs": [],
   "source": [
    "#Business_Code ---> Encoded Business_Code\n",
    "BusinessCode_Enc = LabelEncoder()\n",
    "label1 = BusinessCode_Enc.fit_transform(Raw_train['business_code'])\n",
    "Raw_train['business_code_Enc'] = label1\n",
    "Raw_train.drop('business_code', axis=1, inplace=True)\n",
    "\n",
    "#Document Type ---> Encoded Document Type\n",
    "DocType_Enc = LabelEncoder()\n",
    "label3 = DocType_Enc.fit_transform(Raw_train['document type'])\n",
    "Raw_train['DocType_Enc'] = label3\n",
    "Raw_train.drop('document type', axis=1, inplace=True)\n",
    "\n",
    "#Currency ---> Encoded Currency Type\n",
    "Currency_Enc = LabelEncoder()\n",
    "label4 = Currency_Enc.fit_transform(Raw_train['invoice_currency'])\n",
    "Raw_train['Currency_Enc'] = label4\n",
    "Raw_train.drop('invoice_currency', axis=1, inplace=True)"
   ]
  },
  {
   "cell_type": "markdown",
   "metadata": {},
   "source": [
    "### Converting Date into Day & Month separately"
   ]
  },
  {
   "cell_type": "code",
   "execution_count": 8,
   "metadata": {},
   "outputs": [],
   "source": [
    "Raw_train['posting_date_Day'] = Raw_train['posting_date'].dt.day\n",
    "Raw_train['posting_date_Month'] = Raw_train['posting_date'].dt.month\n",
    "\n",
    "Raw_train['due_in_date_Day'] = Raw_train['due_in_date'].dt.day\n",
    "Raw_train['due_in_date_Month'] = Raw_train['due_in_date'].dt.month\n",
    "\n",
    "Raw_train['document_create_date_Day'] = Raw_train['document_create_date'].dt.day\n",
    "Raw_train['document_create_date_Month'] = Raw_train['document_create_date'].dt.month\n",
    "\n",
    "Raw_train['document_create_date.1_Day'] = Raw_train['document_create_date.1'].dt.day\n",
    "Raw_train['document_create_date.1_Month'] = Raw_train['document_create_date.1'].dt.month\n",
    "\n",
    "Raw_train['baseline_create_date_Day'] = Raw_train['baseline_create_date'].dt.day\n",
    "Raw_train['baseline_create_date_Month'] = Raw_train['baseline_create_date'].dt.month\n",
    "\n",
    "Raw_train.drop(['posting_date', 'due_in_date','document_create_date','document_create_date.1',\n",
    "               'baseline_create_date'],axis=1, inplace=True)\n"
   ]
  },
  {
   "cell_type": "code",
   "execution_count": 9,
   "metadata": {},
   "outputs": [],
   "source": [
    "#Copying the Raw_train data into a sepearte Dataframe to perform Exploratory Data Analysis\n",
    "Eda_data = Raw_train.copy(deep=True)"
   ]
  },
  {
   "cell_type": "markdown",
   "metadata": {},
   "source": [
    "### Separating Target Column & Other Features"
   ]
  },
  {
   "cell_type": "code",
   "execution_count": 10,
   "metadata": {},
   "outputs": [],
   "source": [
    "y = pd.DataFrame(Raw_train['DaysLate'])\n",
    "Raw_train.drop(['doc_id','total_open_amount','isOpen','DaysLate',\n",
    "               'document_create_date_Day','document_create_date.1_Day','document_create_date.1_Month'], inplace=True, axis=1)"
   ]
  },
  {
   "cell_type": "markdown",
   "metadata": {},
   "source": [
    "###### For selecting the X Features for Train Test, I used Wrapper Method - Forward Selection (Manually). By Selecting these features i'm getting the Best Accuracy possible."
   ]
  },
  {
   "cell_type": "code",
   "execution_count": 11,
   "metadata": {},
   "outputs": [],
   "source": [
    "#Dropping Other features except the the above mentioned (X and y)\n",
    "Raw_train.drop(['cust_number','name_customer','cust_payment_terms'],axis=1, inplace=True)"
   ]
  },
  {
   "cell_type": "markdown",
   "metadata": {},
   "source": [
    "## Using Train_test_split function to further split the data"
   ]
  },
  {
   "cell_type": "code",
   "execution_count": 12,
   "metadata": {},
   "outputs": [],
   "source": [
    "X_train,X_test,y_train,y_test = train_test_split(Raw_train,y,test_size=0.25, random_state=0)"
   ]
  },
  {
   "cell_type": "markdown",
   "metadata": {},
   "source": [
    "## Exploratory Data Analysis (EDA)"
   ]
  },
  {
   "cell_type": "code",
   "execution_count": 13,
   "metadata": {},
   "outputs": [],
   "source": [
    "#Dividing the Open Amount column into different categories for better visualization\n",
    "\n",
    "def numeric_to_categoric (x):\n",
    "    if x <= 10000: return \"Less and Equal Rs 10000\"\n",
    "    elif x <= 20000: return \"Between (10000-20000]\"\n",
    "    elif x <= 40000: return \"Between (20000-40000]\"\n",
    "    elif x <= 60000: return \"Between (40000-60000]\"\n",
    "    else: return \"Greater 60000\"\n",
    "Eda_data['total_open_amount'] = Eda_data['total_open_amount'].apply(numeric_to_categoric)"
   ]
  },
  {
   "cell_type": "code",
   "execution_count": 14,
   "metadata": {},
   "outputs": [
    {
     "data": {
      "text/plain": [
       "<matplotlib.axes._subplots.AxesSubplot at 0x1f595fc8f88>"
      ]
     },
     "execution_count": 14,
     "metadata": {},
     "output_type": "execute_result"
    },
    {
     "data": {
      "image/png": "[encoded data removed]",
      "text/plain": [
       "<Figure size 432x288 with 1 Axes>"
      ]
     },
     "metadata": {
      "needs_background": "light"
     },
     "output_type": "display_data"
    }
   ],
   "source": [
    "#Plotting the Bar Graph\n",
    "Eda_data['total_open_amount'].value_counts().plot(kind='barh', title='Invoice Amount')"
   ]
  },
  {
   "cell_type": "markdown",
   "metadata": {},
   "source": [
    "###### From the above graph we come to know that most of the company's pending amount is below Rs.10,000/-"
   ]
  },
  {
   "cell_type": "code",
   "execution_count": 15,
   "metadata": {},
   "outputs": [
    {
     "data": {
      "text/plain": [
       "<matplotlib.axes._subplots.AxesSubplot at 0x1f595a4a048>"
      ]
     },
     "execution_count": 15,
     "metadata": {},
     "output_type": "execute_result"
    },
    {
     "data": {
      "image/png": "[encoded data removed]",
      "text/plain": [
       "<Figure size 432x288 with 1 Axes>"
      ]
     },
     "metadata": {
      "needs_background": "light"
     },
     "output_type": "display_data"
    }
   ],
   "source": [
    "#Distribution Plot is plotted for DaysLate feature\n",
    "sns.distplot(y)"
   ]
  },
  {
   "cell_type": "markdown",
   "metadata": {},
   "source": [
    "##### From the above graph we come to a conclusion that the common Payment delay days are around 10 - 20 days"
   ]
  },
  {
   "cell_type": "code",
   "execution_count": 16,
   "metadata": {},
   "outputs": [
    {
     "data": {
      "image/png": "[encoded data removed]",
      "text/plain": [
       "<Figure size 360x360 with 1 Axes>"
      ]
     },
     "metadata": {
      "needs_background": "light"
     },
     "output_type": "display_data"
    }
   ],
   "source": [
    "sns.relplot(x='total_open_amount', y=\"posting_date_Month\", data=Eda_data);\n",
    "plt.xticks(rotation=45)\n",
    "plt.show()"
   ]
  },
  {
   "cell_type": "markdown",
   "metadata": {},
   "source": [
    "##### The above graph gives the Pending Amounts Month wise"
   ]
  },
  {
   "cell_type": "code",
   "execution_count": 19,
   "metadata": {},
   "outputs": [
    {
     "data": {
      "image/png": "[encoded data removed]",
      "text/plain": [
       "<Figure size 402.625x360 with 1 Axes>"
      ]
     },
     "metadata": {
      "needs_background": "light"
     },
     "output_type": "display_data"
    }
   ],
   "source": [
    "sns.catplot(x='total_open_amount', y='buisness_year', hue='isOpen',\n",
    "            kind=\"violin\", data=Eda_data)\n",
    "plt.xticks(rotation=45)\n",
    "plt.show()"
   ]
  },
  {
   "cell_type": "markdown",
   "metadata": {},
   "source": [
    "# Model Testing"
   ]
  },
  {
   "cell_type": "markdown",
   "metadata": {},
   "source": [
    "##### Logistic Regression"
   ]
  },
  {
   "cell_type": "code",
   "execution_count": 20,
   "metadata": {},
   "outputs": [
    {
     "data": {
      "text/plain": [
       "10.961192932853953"
      ]
     },
     "execution_count": 20,
     "metadata": {},
     "output_type": "execute_result"
    }
   ],
   "source": [
    "logr = LogisticRegression(random_state=0)\n",
    "logr.fit(X_train,y_train.values.ravel())\n",
    "\n",
    "y_pred = logr.predict(X_test)\n",
    "\n",
    "mean_squared_error(y_test,y_pred,squared=False)\n",
    "\n",
    "#Our data was first trained and tested using Logistic Regression Model and it gave a MSE Value of 10.96"
   ]
  },
  {
   "cell_type": "markdown",
   "metadata": {},
   "source": [
    "##### Linear Regression"
   ]
  },
  {
   "cell_type": "code",
   "execution_count": 21,
   "metadata": {},
   "outputs": [
    {
     "data": {
      "text/plain": [
       "10.774722426273946"
      ]
     },
     "execution_count": 21,
     "metadata": {},
     "output_type": "execute_result"
    }
   ],
   "source": [
    "reg = linear_model.LinearRegression()\n",
    "reg.fit(X_train,y_train.values.ravel())\n",
    "\n",
    "y_pred = reg.predict(X_test)\n",
    "\n",
    "mean_squared_error(y_test,y_pred,squared=False)\n",
    "\n",
    "#The Data was then trained using Linear Regression and gave a MSE Value of 10.77"
   ]
  },
  {
   "cell_type": "markdown",
   "metadata": {},
   "source": [
    "##### Ridge Regression"
   ]
  },
  {
   "cell_type": "code",
   "execution_count": 22,
   "metadata": {},
   "outputs": [
    {
     "data": {
      "text/plain": [
       "10.77443387858077"
      ]
     },
     "execution_count": 22,
     "metadata": {},
     "output_type": "execute_result"
    }
   ],
   "source": [
    "ridgeR = Ridge(alpha = 1)\n",
    "ridgeR.fit(X_train,y_train.values.ravel())\n",
    "y_pred = ridgeR.predict(X_test)\n",
    "\n",
    "mean_squared_error(y_test,y_pred,squared=False)\n",
    "\n",
    "#The Data was then trained using Ridge Regression and gave a MSE Value of 10.77"
   ]
  },
  {
   "cell_type": "markdown",
   "metadata": {},
   "source": [
    "##### Lasso Regression"
   ]
  },
  {
   "cell_type": "code",
   "execution_count": 23,
   "metadata": {},
   "outputs": [
    {
     "data": {
      "text/plain": [
       "10.77443387858077"
      ]
     },
     "execution_count": 23,
     "metadata": {},
     "output_type": "execute_result"
    }
   ],
   "source": [
    "lasso = Lasso(alpha = 1)\n",
    "lasso.fit(X_train,y_train.values.ravel())\n",
    "y_pred1 = lasso.predict(X_test)\n",
    "\n",
    "mean_squared_error(y_test,y_pred,squared=False)\n",
    "\n",
    "#The Data was then trained using Lasso Regression and gave a MSE Value of 10.77"
   ]
  },
  {
   "cell_type": "markdown",
   "metadata": {},
   "source": [
    "##### KNeighborsClassifier"
   ]
  },
  {
   "cell_type": "code",
   "execution_count": 24,
   "metadata": {},
   "outputs": [
    {
     "data": {
      "text/plain": [
       "12.184182142373267"
      ]
     },
     "execution_count": 24,
     "metadata": {},
     "output_type": "execute_result"
    }
   ],
   "source": [
    "knn = KNeighborsClassifier(n_neighbors=1, metric='minkowski')\n",
    "knn.fit(X_train,y_train.values.ravel())\n",
    "\n",
    "y_pred = knn.predict(X_test)\n",
    "\n",
    "mean_squared_error(y_test,y_pred,squared=False)\n",
    "\n",
    "#The Data was then trained using KNeighborsClassifier and gave a MSE Value of 12.18"
   ]
  },
  {
   "cell_type": "markdown",
   "metadata": {},
   "source": [
    "##### Random Forest Classifier"
   ]
  },
  {
   "cell_type": "code",
   "execution_count": 25,
   "metadata": {},
   "outputs": [
    {
     "data": {
      "text/plain": [
       "11.095325016366754"
      ]
     },
     "execution_count": 25,
     "metadata": {},
     "output_type": "execute_result"
    }
   ],
   "source": [
    "rfc = RandomForestClassifier(n_estimators=10, criterion = 'entropy')\n",
    "rfc.fit(X_train,y_train.values.ravel())\n",
    "\n",
    "y_pred = rfc.predict(X_test)\n",
    "\n",
    "mean_squared_error(y_test,y_pred,squared=False)\n",
    "\n",
    "#When trained and tested using Random Forest Classifier, the model gave a MSE Value of 11.01"
   ]
  },
  {
   "cell_type": "markdown",
   "metadata": {},
   "source": [
    "##### Random Forest Regression"
   ]
  },
  {
   "cell_type": "code",
   "execution_count": 26,
   "metadata": {},
   "outputs": [
    {
     "data": {
      "text/plain": [
       "9.631454379832698"
      ]
     },
     "execution_count": 26,
     "metadata": {},
     "output_type": "execute_result"
    }
   ],
   "source": [
    "rfr = RandomForestRegressor(n_estimators = 100, random_state = 0)\n",
    "rfr.fit(X_train,y_train.values.ravel())\n",
    "\n",
    "y_pred = rfr.predict(X_test)\n",
    "\n",
    "mean_squared_error(y_test,y_pred,squared=False)\n",
    "\n",
    "#When trained and tested using Random Forest Regressor, the model gave a MSE Value of 9.63"
   ]
  },
  {
   "cell_type": "markdown",
   "metadata": {},
   "source": [
    "##### Decision Tree Classifier"
   ]
  },
  {
   "cell_type": "code",
   "execution_count": 27,
   "metadata": {},
   "outputs": [
    {
     "data": {
      "text/plain": [
       "11.57456046239988"
      ]
     },
     "execution_count": 27,
     "metadata": {},
     "output_type": "execute_result"
    }
   ],
   "source": [
    "dtc = DecisionTreeClassifier(criterion = 'entropy')\n",
    "dtc.fit(X_train,y_train.values.ravel())\n",
    "\n",
    "y_pred = dtc.predict(X_test)\n",
    "\n",
    "mean_squared_error(y_test,y_pred,squared=False)\n",
    "\n",
    "#When trained and tested using Decision Tree Classifier, the model gave a MSE Value of 11.60"
   ]
  },
  {
   "cell_type": "markdown",
   "metadata": {},
   "source": [
    "##### Decision Tree Regression"
   ]
  },
  {
   "cell_type": "code",
   "execution_count": 28,
   "metadata": {},
   "outputs": [
    {
     "data": {
      "text/plain": [
       "10.996303897454526"
      ]
     },
     "execution_count": 28,
     "metadata": {},
     "output_type": "execute_result"
    }
   ],
   "source": [
    "dtr = DecisionTreeRegressor(random_state = 0)\n",
    "dtr.fit(X_train,y_train.values.ravel())\n",
    "\n",
    "y_pred = dtr.predict(X_test)\n",
    "\n",
    "mean_squared_error(y_test,y_pred,squared=False)\n",
    "\n",
    "#When trained and tested using Decision Tree Regressor, the model gave a MSE Value of 10.99"
   ]
  },
  {
   "cell_type": "markdown",
   "metadata": {},
   "source": [
    "##### Naive Bayes Model"
   ]
  },
  {
   "cell_type": "code",
   "execution_count": 29,
   "metadata": {},
   "outputs": [
    {
     "data": {
      "text/plain": [
       "57.40211103903968"
      ]
     },
     "execution_count": 29,
     "metadata": {},
     "output_type": "execute_result"
    }
   ],
   "source": [
    "gnb = GaussianNB()\n",
    "gnb.fit(X_train, y_train.values.ravel())\n",
    "\n",
    "y_pred = gnb.predict(X_test)\n",
    "\n",
    "mean_squared_error(y_test,y_pred,squared=False)\n",
    "\n",
    "#When trained and tested using Naive Bayes Model, the model gave a MSE Value of 57.40 Therefore NaiveBayes doesn't suit our data."
   ]
  },
  {
   "cell_type": "markdown",
   "metadata": {},
   "source": [
    "##### XGB Regressor"
   ]
  },
  {
   "cell_type": "code",
   "execution_count": 30,
   "metadata": {},
   "outputs": [
    {
     "data": {
      "text/plain": [
       "9.31342991529285"
      ]
     },
     "execution_count": 30,
     "metadata": {},
     "output_type": "execute_result"
    }
   ],
   "source": [
    "import xgboost as xgb\n",
    "xg = xgb.XGBRegressor()\n",
    "xg.fit(X_train, y_train.values.ravel())\n",
    "\n",
    "y_pred = xg.predict(X_test)\n",
    "\n",
    "mean_squared_error(y_test,y_pred,squared=False)\n",
    "\n",
    "#When trained and tested using XGB Regressor, the model gave a MSE Value of 9.31"
   ]
  },
  {
   "cell_type": "markdown",
   "metadata": {},
   "source": [
    "### After Comparing the results of various models, I come to a conclusion that the XGB Regressor gives better results than other Machine learning models"
   ]
  },
  {
   "cell_type": "markdown",
   "metadata": {},
   "source": [
    "## Let's try it out with Raw_Test Dataset"
   ]
  },
  {
   "cell_type": "markdown",
   "metadata": {},
   "source": [
    "### Making all the changes that was made to the Raw_train Dataset|"
   ]
  },
  {
   "cell_type": "code",
   "execution_count": 31,
   "metadata": {},
   "outputs": [],
   "source": [
    "#Business_Code ---> Encoded Business_Code\n",
    "label1 = BusinessCode_Enc.transform(Raw_test['business_code'])\n",
    "Raw_test['business_code_Enc'] = label1\n",
    "Raw_test.drop('business_code', axis=1, inplace=True)\n",
    "\n",
    "#Document Type ---> Encoded Document Type\n",
    "label3 = DocType_Enc.transform(Raw_test['document type'])\n",
    "Raw_test['DocType_Enc'] = label3\n",
    "Raw_test.drop('document type', axis=1, inplace=True)\n",
    "\n",
    "#Currency ---> Encoded Currency Type\n",
    "label4 = Currency_Enc.transform(Raw_test['invoice_currency'])\n",
    "Raw_test['Currency_Enc'] = label4\n",
    "Raw_test.drop('invoice_currency', axis=1, inplace=True)"
   ]
  },
  {
   "cell_type": "code",
   "execution_count": 32,
   "metadata": {},
   "outputs": [],
   "source": [
    "Raw_test['posting_date_Day'] = Raw_test['posting_date'].dt.day\n",
    "Raw_test['posting_date_Month'] = Raw_test['posting_date'].dt.month\n",
    "\n",
    "Raw_test['due_in_date_Day'] = Raw_test['due_in_date'].dt.day\n",
    "Raw_test['due_in_date_Month'] = Raw_test['due_in_date'].dt.month\n",
    "\n",
    "Raw_test.drop(['posting_date', 'due_in_date'],axis=1, inplace=True)\n",
    "\n",
    "Raw_test['document_create_date'] = pd.to_datetime(Raw_test['document_create_date'], format='%Y%m%d')\n",
    "Raw_test['document_create_date.1'] = pd.to_datetime(Raw_test['document_create_date.1'], format='%Y%m%d')\n",
    "\n",
    "Raw_test['document_create_date_Day'] = Raw_test['document_create_date'].dt.day\n",
    "Raw_test['document_create_date_Month'] = Raw_test['document_create_date'].dt.month\n",
    "\n",
    "Raw_test['document_create_date.1_Day'] = Raw_test['document_create_date.1'].dt.day\n",
    "Raw_test['document_create_date.1_Month'] = Raw_test['document_create_date.1'].dt.month\n",
    "\n",
    "Raw_test.drop(['document_create_date', 'document_create_date.1'],axis=1, inplace=True)\n",
    "Raw_test['baseline_create_date'] = pd.to_datetime(Raw_test['baseline_create_date'], format='%Y%m%d')\n",
    "\n",
    "Raw_test['baseline_create_date_Day'] = Raw_test['baseline_create_date'].dt.day\n",
    "Raw_test['baseline_create_date_Month'] = Raw_test['baseline_create_date'].dt.month\n",
    "\n",
    "Raw_test.drop(['baseline_create_date'],axis=1, inplace=True)"
   ]
  },
  {
   "cell_type": "code",
   "execution_count": 33,
   "metadata": {},
   "outputs": [],
   "source": [
    "Raw_test.drop(['doc_id','total_open_amount','document_create_date_Day',\n",
    "               'document_create_date.1_Day','document_create_date.1_Month',\n",
    "              'cust_number','name_customer','cust_payment_terms','isOpen','DaysLate'], inplace=True, axis=1)"
   ]
  },
  {
   "cell_type": "markdown",
   "metadata": {},
   "source": [
    "### Predicting for the Test Data"
   ]
  },
  {
   "cell_type": "code",
   "execution_count": 34,
   "metadata": {},
   "outputs": [],
   "source": [
    "y_pred = xg.predict(Raw_test)\n",
    "Raw_test['Predicted DaysLate'] = y_pred.tolist()"
   ]
  },
  {
   "cell_type": "markdown",
   "metadata": {},
   "source": [
    "### Bucketing the Delay column into 3 categories"
   ]
  },
  {
   "cell_type": "code",
   "execution_count": 35,
   "metadata": {},
   "outputs": [],
   "source": [
    "def Buckets (x):\n",
    "    if x <= 10: return \"Less and Equal 10\"\n",
    "    elif x <= 20: return \"Between 10-20\"\n",
    "    else: return \"More than 20\"\n",
    "Raw_test['Delay Buckets'] = Raw_test['Predicted DaysLate'].apply(Buckets)"
   ]
  },
  {
   "cell_type": "code",
   "execution_count": 36,
   "metadata": {},
   "outputs": [],
   "source": [
    "Raw_test['Predicted DaysLate']= Raw_test['Predicted DaysLate'].round()"
   ]
  },
  {
   "cell_type": "markdown",
   "metadata": {},
   "source": [
    "### Calculating the Predicted Payment Date"
   ]
  },
  {
   "cell_type": "code",
   "execution_count": 37,
   "metadata": {},
   "outputs": [],
   "source": [
    "Raw_test['Predicted Payment Date'] = dummy_df['due_in_date'] + Raw_test['Predicted DaysLate']"
   ]
  },
  {
   "cell_type": "markdown",
   "metadata": {},
   "source": [
    "# Final Output"
   ]
  },
  {
   "cell_type": "code",
   "execution_count": 38,
   "metadata": {},
   "outputs": [
    {
     "data": {
      "text/html": [
       "<div>\n",
       "<style scoped>\n",
       "    .dataframe tbody tr th:only-of-type {\n",
       "        vertical-align: middle;\n",
       "    }\n",
       "\n",
       "    .dataframe tbody tr th {\n",
       "        vertical-align: top;\n",
       "    }\n",
       "\n",
       "    .dataframe thead th {\n",
       "        text-align: right;\n",
       "    }\n",
       "</style>\n",
       "<table border=\"1\" class=\"dataframe\">\n",
       "  <thead>\n",
       "    <tr style=\"text-align: right;\">\n",
       "      <th></th>\n",
       "      <th>buisness_year</th>\n",
       "      <th>business_code_Enc</th>\n",
       "      <th>DocType_Enc</th>\n",
       "      <th>Currency_Enc</th>\n",
       "      <th>posting_date_Day</th>\n",
       "      <th>posting_date_Month</th>\n",
       "      <th>due_in_date_Day</th>\n",
       "      <th>due_in_date_Month</th>\n",
       "      <th>document_create_date_Month</th>\n",
       "      <th>baseline_create_date_Day</th>\n",
       "      <th>baseline_create_date_Month</th>\n",
       "      <th>Predicted DaysLate</th>\n",
       "      <th>Delay Buckets</th>\n",
       "      <th>Predicted Payment Date</th>\n",
       "    </tr>\n",
       "  </thead>\n",
       "  <tbody>\n",
       "    <tr>\n",
       "      <th>2</th>\n",
       "      <td>2020</td>\n",
       "      <td>1</td>\n",
       "      <td>0</td>\n",
       "      <td>1</td>\n",
       "      <td>29</td>\n",
       "      <td>3</td>\n",
       "      <td>13</td>\n",
       "      <td>4</td>\n",
       "      <td>3</td>\n",
       "      <td>29</td>\n",
       "      <td>3</td>\n",
       "      <td>-4.0</td>\n",
       "      <td>Less and Equal 10</td>\n",
       "      <td>20200409.0</td>\n",
       "    </tr>\n",
       "    <tr>\n",
       "      <th>3</th>\n",
       "      <td>2020</td>\n",
       "      <td>1</td>\n",
       "      <td>0</td>\n",
       "      <td>1</td>\n",
       "      <td>17</td>\n",
       "      <td>3</td>\n",
       "      <td>1</td>\n",
       "      <td>4</td>\n",
       "      <td>3</td>\n",
       "      <td>17</td>\n",
       "      <td>3</td>\n",
       "      <td>-0.0</td>\n",
       "      <td>Less and Equal 10</td>\n",
       "      <td>20200401.0</td>\n",
       "    </tr>\n",
       "    <tr>\n",
       "      <th>7</th>\n",
       "      <td>2020</td>\n",
       "      <td>1</td>\n",
       "      <td>0</td>\n",
       "      <td>1</td>\n",
       "      <td>27</td>\n",
       "      <td>3</td>\n",
       "      <td>11</td>\n",
       "      <td>4</td>\n",
       "      <td>3</td>\n",
       "      <td>27</td>\n",
       "      <td>3</td>\n",
       "      <td>-1.0</td>\n",
       "      <td>Less and Equal 10</td>\n",
       "      <td>20200410.0</td>\n",
       "    </tr>\n",
       "    <tr>\n",
       "      <th>12</th>\n",
       "      <td>2020</td>\n",
       "      <td>1</td>\n",
       "      <td>0</td>\n",
       "      <td>1</td>\n",
       "      <td>25</td>\n",
       "      <td>4</td>\n",
       "      <td>10</td>\n",
       "      <td>5</td>\n",
       "      <td>4</td>\n",
       "      <td>25</td>\n",
       "      <td>4</td>\n",
       "      <td>-3.0</td>\n",
       "      <td>Less and Equal 10</td>\n",
       "      <td>20200507.0</td>\n",
       "    </tr>\n",
       "    <tr>\n",
       "      <th>18</th>\n",
       "      <td>2020</td>\n",
       "      <td>1</td>\n",
       "      <td>0</td>\n",
       "      <td>1</td>\n",
       "      <td>11</td>\n",
       "      <td>4</td>\n",
       "      <td>26</td>\n",
       "      <td>4</td>\n",
       "      <td>4</td>\n",
       "      <td>11</td>\n",
       "      <td>4</td>\n",
       "      <td>-6.0</td>\n",
       "      <td>Less and Equal 10</td>\n",
       "      <td>20200420.0</td>\n",
       "    </tr>\n",
       "  </tbody>\n",
       "</table>\n",
       "</div>"
      ],
      "text/plain": [
       "    buisness_year  business_code_Enc  DocType_Enc  Currency_Enc  \\\n",
       "2            2020                  1            0             1   \n",
       "3            2020                  1            0             1   \n",
       "7            2020                  1            0             1   \n",
       "12           2020                  1            0             1   \n",
       "18           2020                  1            0             1   \n",
       "\n",
       "    posting_date_Day  posting_date_Month  due_in_date_Day  due_in_date_Month  \\\n",
       "2                 29                   3               13                  4   \n",
       "3                 17                   3                1                  4   \n",
       "7                 27                   3               11                  4   \n",
       "12                25                   4               10                  5   \n",
       "18                11                   4               26                  4   \n",
       "\n",
       "    document_create_date_Month  baseline_create_date_Day  \\\n",
       "2                            3                        29   \n",
       "3                            3                        17   \n",
       "7                            3                        27   \n",
       "12                           4                        25   \n",
       "18                           4                        11   \n",
       "\n",
       "    baseline_create_date_Month  Predicted DaysLate      Delay Buckets  \\\n",
       "2                            3                -4.0  Less and Equal 10   \n",
       "3                            3                -0.0  Less and Equal 10   \n",
       "7                            3                -1.0  Less and Equal 10   \n",
       "12                           4                -3.0  Less and Equal 10   \n",
       "18                           4                -6.0  Less and Equal 10   \n",
       "\n",
       "    Predicted Payment Date  \n",
       "2               20200409.0  \n",
       "3               20200401.0  \n",
       "7               20200410.0  \n",
       "12              20200507.0  \n",
       "18              20200420.0  "
      ]
     },
     "execution_count": 38,
     "metadata": {},
     "output_type": "execute_result"
    }
   ],
   "source": [
    "Raw_test.head()"
   ]
  }
 ],
 "metadata": {
  "kernelspec": {
   "display_name": "Python 3",
   "language": "python",
   "name": "python3"
  },
  "language_info": {
   "codemirror_mode": {
    "name": "ipython",
    "version": 3
   },
   "file_extension": ".py",
   "mimetype": "text/x-python",
   "name": "python",
   "nbconvert_exporter": "python",
   "pygments_lexer": "ipython3",
   "version": "3.7.6"
  }
 },
 "nbformat": 4,
 "nbformat_minor": 4
}
